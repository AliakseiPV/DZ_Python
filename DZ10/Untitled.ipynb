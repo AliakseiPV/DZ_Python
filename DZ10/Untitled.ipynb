{
 "cells": [
  {
   "cell_type": "raw",
   "id": "f01f9a24",
   "metadata": {},
   "source": [
    "f(x) = -12x^4*sin(cos(x)) - 18x^3+5x^2 + 10x - 30\n",
    "\n",
    "1.Определить корни\n",
    "\n",
    "2.Найти интервалы, на которых функция возрастает\n",
    "\n",
    "3.Найти интервалы, на которых функция убывает\n",
    "\n",
    "4.Построить график\n",
    "\n",
    "5.Вычислить вершину\n",
    "\n",
    "6.Определить промежутки, на котором f > 0\n",
    "\n",
    "7.Определить промежутки, на котором f < 0"
   ]
  },
  {
   "cell_type": "code",
   "execution_count": 144,
   "id": "d38f42f2",
   "metadata": {},
   "outputs": [],
   "source": [
    "from sympy import *\n",
    "from sympy.plotting import plot\n",
    "from math import sin,cos"
   ]
  },
  {
   "cell_type": "markdown",
   "id": "e10c8118",
   "metadata": {},
   "source": [
    "# 1.Определить корни (возможно корней нет)"
   ]
  },
  {
   "cell_type": "code",
   "execution_count": 221,
   "id": "23a8e765",
   "metadata": {
    "scrolled": true
   },
   "outputs": [
    {
     "ename": "NotImplementedError",
     "evalue": "multiple generators [x, sin(cos(x))]\nNo algorithms are implemented to solve equation -12*x**4*sin(cos(x)) - 18*x**3 + 5*x**2 + 10*x - 30",
     "output_type": "error",
     "traceback": [
      "\u001b[1;31m---------------------------------------------------------------------------\u001b[0m",
      "\u001b[1;31mNotImplementedError\u001b[0m                       Traceback (most recent call last)",
      "Input \u001b[1;32mIn [221]\u001b[0m, in \u001b[0;36m<cell line: 2>\u001b[1;34m()\u001b[0m\n\u001b[0;32m      1\u001b[0m x \u001b[38;5;241m=\u001b[39m sympy\u001b[38;5;241m.\u001b[39mSymbol(\u001b[38;5;124m'\u001b[39m\u001b[38;5;124mx\u001b[39m\u001b[38;5;124m'\u001b[39m)\n\u001b[1;32m----> 2\u001b[0m f \u001b[38;5;241m=\u001b[39m \u001b[43msympy\u001b[49m\u001b[38;5;241;43m.\u001b[39;49m\u001b[43msolve\u001b[49m\u001b[43m(\u001b[49m\u001b[38;5;241;43m-\u001b[39;49m\u001b[38;5;241;43m12\u001b[39;49m\u001b[38;5;241;43m*\u001b[39;49m\u001b[43m(\u001b[49m\u001b[43mx\u001b[49m\u001b[38;5;241;43m*\u001b[39;49m\u001b[38;5;241;43m*\u001b[39;49m\u001b[38;5;241;43m4\u001b[39;49m\u001b[43m)\u001b[49m\u001b[38;5;241;43m*\u001b[39;49m\u001b[43m(\u001b[49m\u001b[43msympy\u001b[49m\u001b[38;5;241;43m.\u001b[39;49m\u001b[43msin\u001b[49m\u001b[43m(\u001b[49m\u001b[43msympy\u001b[49m\u001b[38;5;241;43m.\u001b[39;49m\u001b[43mcos\u001b[49m\u001b[43m(\u001b[49m\u001b[43mx\u001b[49m\u001b[43m)\u001b[49m\u001b[43m)\u001b[49m\u001b[43m)\u001b[49m\u001b[38;5;241;43m-\u001b[39;49m\u001b[38;5;241;43m18\u001b[39;49m\u001b[38;5;241;43m*\u001b[39;49m\u001b[43m(\u001b[49m\u001b[43mx\u001b[49m\u001b[38;5;241;43m*\u001b[39;49m\u001b[38;5;241;43m*\u001b[39;49m\u001b[38;5;241;43m3\u001b[39;49m\u001b[43m)\u001b[49m\u001b[38;5;241;43m+\u001b[39;49m\u001b[38;5;241;43m5\u001b[39;49m\u001b[38;5;241;43m*\u001b[39;49m\u001b[43m(\u001b[49m\u001b[43mx\u001b[49m\u001b[38;5;241;43m*\u001b[39;49m\u001b[38;5;241;43m*\u001b[39;49m\u001b[38;5;241;43m2\u001b[39;49m\u001b[43m)\u001b[49m\u001b[38;5;241;43m+\u001b[39;49m\u001b[38;5;241;43m10\u001b[39;49m\u001b[38;5;241;43m*\u001b[39;49m\u001b[43mx\u001b[49m\u001b[38;5;241;43m-\u001b[39;49m\u001b[38;5;241;43m30\u001b[39;49m\u001b[43m)\u001b[49m\n\u001b[0;32m      3\u001b[0m f\n",
      "File \u001b[1;32m~\\anaconda3\\lib\\site-packages\\sympy\\solvers\\solvers.py:1106\u001b[0m, in \u001b[0;36msolve\u001b[1;34m(f, *symbols, **flags)\u001b[0m\n\u001b[0;32m   1102\u001b[0m \u001b[38;5;66;03m#\u001b[39;00m\n\u001b[0;32m   1103\u001b[0m \u001b[38;5;66;03m# try to get a solution\u001b[39;00m\n\u001b[0;32m   1104\u001b[0m \u001b[38;5;66;03m###########################################################################\u001b[39;00m\n\u001b[0;32m   1105\u001b[0m \u001b[38;5;28;01mif\u001b[39;00m bare_f:\n\u001b[1;32m-> 1106\u001b[0m     solution \u001b[38;5;241m=\u001b[39m _solve(f[\u001b[38;5;241m0\u001b[39m], \u001b[38;5;241m*\u001b[39msymbols, \u001b[38;5;241m*\u001b[39m\u001b[38;5;241m*\u001b[39mflags)\n\u001b[0;32m   1107\u001b[0m \u001b[38;5;28;01melse\u001b[39;00m:\n\u001b[0;32m   1108\u001b[0m     solution \u001b[38;5;241m=\u001b[39m _solve_system(f, symbols, \u001b[38;5;241m*\u001b[39m\u001b[38;5;241m*\u001b[39mflags)\n",
      "File \u001b[1;32m~\\anaconda3\\lib\\site-packages\\sympy\\solvers\\solvers.py:1720\u001b[0m, in \u001b[0;36m_solve\u001b[1;34m(f, *symbols, **flags)\u001b[0m\n\u001b[0;32m   1717\u001b[0m \u001b[38;5;66;03m# ----------- end of fallback ----------------------------\u001b[39;00m\n\u001b[0;32m   1719\u001b[0m \u001b[38;5;28;01mif\u001b[39;00m result \u001b[38;5;129;01mis\u001b[39;00m \u001b[38;5;28;01mFalse\u001b[39;00m:\n\u001b[1;32m-> 1720\u001b[0m     \u001b[38;5;28;01mraise\u001b[39;00m \u001b[38;5;167;01mNotImplementedError\u001b[39;00m(\u001b[38;5;124m'\u001b[39m\u001b[38;5;130;01m\\n\u001b[39;00m\u001b[38;5;124m'\u001b[39m\u001b[38;5;241m.\u001b[39mjoin([msg, not_impl_msg \u001b[38;5;241m%\u001b[39m f]))\n\u001b[0;32m   1722\u001b[0m \u001b[38;5;28;01mif\u001b[39;00m flags\u001b[38;5;241m.\u001b[39mget(\u001b[38;5;124m'\u001b[39m\u001b[38;5;124msimplify\u001b[39m\u001b[38;5;124m'\u001b[39m, \u001b[38;5;28;01mTrue\u001b[39;00m):\n\u001b[0;32m   1723\u001b[0m     result \u001b[38;5;241m=\u001b[39m \u001b[38;5;28mlist\u001b[39m(\u001b[38;5;28mmap\u001b[39m(simplify, result))\n",
      "\u001b[1;31mNotImplementedError\u001b[0m: multiple generators [x, sin(cos(x))]\nNo algorithms are implemented to solve equation -12*x**4*sin(cos(x)) - 18*x**3 + 5*x**2 + 10*x - 30"
     ]
    }
   ],
   "source": [
    "x = sympy.Symbol('x')\n",
    "f = sympy.solve(-12*(x**4)*(sympy.sin(sympy.cos(x)))-18*(x**3)+5*(x**2)+10*x-30)\n",
    "f"
   ]
  },
  {
   "cell_type": "markdown",
   "id": "f24548c8",
   "metadata": {},
   "source": [
    "# 4 Построить график"
   ]
  },
  {
   "cell_type": "code",
   "execution_count": 155,
   "id": "fb200e78",
   "metadata": {},
   "outputs": [
    {
     "data": {
      "image/png": "[encoded data removed]",
      "text/plain": [
       "<Figure size 432x288 with 1 Axes>"
      ]
     },
     "metadata": {
      "needs_background": "light"
     },
     "output_type": "display_data"
    }
   ],
   "source": [
    "import matplotlib.pyplot as plt\n",
    "x = [(-12*(x**4)*(math.sin(math.cos(x)))-18*(x**3)+5*(x**2)+10*x-30) for x in range(-100,101)]\n",
    "y = [y for y in range(-100,101)]\n",
    "plt.plot(x,y)\n",
    "plt.show()"
   ]
  },
  {
   "cell_type": "markdown",
   "id": "02d66293",
   "metadata": {},
   "source": [
    "# 2,3.Найти интервалы, на которых функция убывает, возрастает"
   ]
  },
  {
   "cell_type": "code",
   "execution_count": 217,
   "id": "7038a156",
   "metadata": {},
   "outputs": [
    {
     "data": {
      "text/plain": [
       "True"
      ]
     },
     "execution_count": 217,
     "metadata": {},
     "output_type": "execute_result"
    }
   ],
   "source": [
    "from sympy import is_decreasing, is_increasing\n",
    "from sympy.abc import x,y\n",
    "from sympy import S,Interval, oo\n",
    "is_increasing(-12*(x**4)*(sympy.sin(sympy.cos(x)))-18*(x**3)+5*(x**2)+10*x-30, Interval.open(+oo,0))\n",
    "is_decreasing(-12*(x**4)*(sympy.sin(sympy.cos(x)))-18*(x**3)+5*(x**2)+10*x-30, Interval.open(0,-oo))"
   ]
  },
  {
   "cell_type": "markdown",
   "id": "40639ea6",
   "metadata": {},
   "source": [
    "# 5.Вычислить вершину"
   ]
  },
  {
   "cell_type": "code",
   "execution_count": 195,
   "id": "9d0caca4",
   "metadata": {},
   "outputs": [
    {
     "data": {
      "text/latex": [
       "$\\displaystyle - 12 x^{4} \\sin{\\left(\\cos{\\left(x \\right)} \\right)} - 18 x^{3} + 5 x^{2} + 10 x - 30$"
      ],
      "text/plain": [
       "-12*x**4*sin(cos(x)) - 18*x**3 + 5*x**2 + 10*x - 30"
      ]
     },
     "execution_count": 195,
     "metadata": {},
     "output_type": "execute_result"
    }
   ],
   "source": [
    "\n",
    "maximum((-12*(x**4)*(sympy.sin(sympy.cos(x)))-18*(x**3)+5*(x**2)+10*x-30),y, S.Reals)"
   ]
  },
  {
   "cell_type": "markdown",
   "id": "eadfa160",
   "metadata": {},
   "source": [
    "# 6,7.Определить промежутки, на котором f > 0,f < 0"
   ]
  },
  {
   "cell_type": "code",
   "execution_count": 172,
   "id": "3fff0729",
   "metadata": {
    "scrolled": true
   },
   "outputs": [
    {
     "name": "stdout",
     "output_type": "stream",
     "text": [
      "-10 - 107652.76951248452\n",
      " -9 - 75620.7845886376\n",
      " -8 - 16552.410757701822\n",
      " -7 - -13402.491276575198\n",
      " -6 - -8763.585937318787\n",
      " -5 - 195.94986923604483\n",
      " -4 - 3030.0310056164317\n",
      " -3 - 1283.613249414674\n",
      " -2 - 191.61391753963503\n",
      " -1 - -23.17274310228259\n",
      "  0 - -30.0\n",
      "  1 - -39.17274310228259\n",
      "  2 - -56.386082460364975\n",
      "  3 - 371.6132494146741\n",
      "  4 - 806.0310056164317\n",
      "  5 - -4204.050130763955\n",
      "  6 - -16419.585937318785\n",
      "  7 - -25610.491276575198\n",
      "  8 - -1719.5892422981788\n",
      "  9 - 49556.7845886376\n",
      " 10 - 71852.76951248452\n"
     ]
    }
   ],
   "source": [
    "i = -10\n",
    "while i < 11:\n",
    "    res = -12*(i**4)*(math.sin(math.cos(i)))-18*(i**3)+5*(i**2)+10*i-30\n",
    "    print(f'{i:3} - {res}')\n",
    "    i += 1"
   ]
  },
  {
   "cell_type": "code",
   "execution_count": null,
   "id": "257fd232",
   "metadata": {},
   "outputs": [],
   "source": []
  }
 ],
 "metadata": {
  "kernelspec": {
   "display_name": "Python 3 (ipykernel)",
   "language": "python",
   "name": "python3"
  },
  "language_info": {
   "codemirror_mode": {
    "name": "ipython",
    "version": 3
   },
   "file_extension": ".py",
   "mimetype": "text/x-python",
   "name": "python",
   "nbconvert_exporter": "python",
   "pygments_lexer": "ipython3",
   "version": "3.9.12"
  }
 },
 "nbformat": 4,
 "nbformat_minor": 5
}
